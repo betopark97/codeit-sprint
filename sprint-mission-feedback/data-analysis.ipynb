{
 "cells": [
  {
   "cell_type": "markdown",
   "metadata": {},
   "source": [
    ">본 파일은 데이터분석과 관련된 내용을 배운 순으로 기록  \n",
    ">Pandas, Numpy, Matplotlib, SciPy, Scikit-learn 등"
   ]
  },
  {
   "cell_type": "code",
   "execution_count": null,
   "metadata": {},
   "outputs": [],
   "source": []
  }
 ],
 "metadata": {
  "language_info": {
   "name": "python"
  }
 },
 "nbformat": 4,
 "nbformat_minor": 2
}
